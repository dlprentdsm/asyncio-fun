{
 "cells": [
  {
   "cell_type": "markdown",
   "metadata": {},
   "source": [
    "# Asyncio In Jupyter:\n",
    "IMPORT DIFFERENCE VS ASYNCIO IN AN APP:\n",
    "In Jupyter we are already in an asyncio loop, so we can just write ```await task``` in a cell. In a normal python appliction this needs to be wrapped. See below"
   ]
  },
  {
   "cell_type": "code",
   "execution_count": 1,
   "metadata": {},
   "outputs": [],
   "source": [
    "import asyncio\n",
    "import time\n",
    "async def simple_fn(x, t):    \n",
    "    '''Test asyncio by sleeping for t seconds and then returning x'''\n",
    "    await asyncio.sleep(t)\n",
    "    return(x)"
   ]
  },
  {
   "cell_type": "code",
   "execution_count": 2,
   "metadata": {},
   "outputs": [],
   "source": [
    "tasks=[]\n",
    "for i in range(10):\n",
    "    task= asyncio.tasks.create_task(simple_fn(i, 5)) #starts task, but we can continue immediately\n",
    "    tasks.append(task)"
   ]
  },
  {
   "cell_type": "code",
   "execution_count": 3,
   "metadata": {},
   "outputs": [
    {
     "name": "stdout",
     "output_type": "stream",
     "text": [
      "0\n",
      "1\n",
      "2\n",
      "3\n",
      "4\n",
      "5\n",
      "6\n",
      "7\n",
      "8\n",
      "9\n",
      "Executed in 2.5150485038757324 seconds\n"
     ]
    }
   ],
   "source": [
    "# if you wait a moment before executing this you will see it takes less than 5 seconds\n",
    "# This shows that tasks were started as soon as they were created.\n",
    "# This also takes less than 50 seconds, so the tasks were in fact executed in parallel. \n",
    "# Obviously. \n",
    "# We would hope so :D\n",
    "t1=time.time()\n",
    "\n",
    "for task in tasks:\n",
    "    t = await task\n",
    "    print(t)\n",
    "\n",
    "t2=time.time()\n",
    "print(\"Executed in \"+ str(t2-t1) + \" seconds\")"
   ]
  },
  {
   "cell_type": "code",
   "execution_count": 4,
   "metadata": {},
   "outputs": [],
   "source": [
    "#test ability to pas complex objects:\n",
    "import pandas as pd\n",
    "import dash_html_components as html\n",
    "import datetime\n",
    "\n",
    "test1 = html.H6(datetime.datetime.now())\n",
    "test2 = pd.DataFrame([{'a':0,'x':1}])\n",
    "task1 = asyncio.create_task(simple_fn(test1, 5))\n",
    "task2 = asyncio.create_task(simple_fn(test2, 5))"
   ]
  },
  {
   "cell_type": "code",
   "execution_count": 5,
   "metadata": {},
   "outputs": [
    {
     "data": {
      "text/plain": [
       "H6(datetime.datetime(2019, 4, 30, 9, 8, 35, 255008))"
      ]
     },
     "execution_count": 5,
     "metadata": {},
     "output_type": "execute_result"
    }
   ],
   "source": [
    "res1 = await task1\n",
    "res1"
   ]
  },
  {
   "cell_type": "code",
   "execution_count": 6,
   "metadata": {},
   "outputs": [
    {
     "data": {
      "text/html": [
       "<div>\n",
       "<style scoped>\n",
       "    .dataframe tbody tr th:only-of-type {\n",
       "        vertical-align: middle;\n",
       "    }\n",
       "\n",
       "    .dataframe tbody tr th {\n",
       "        vertical-align: top;\n",
       "    }\n",
       "\n",
       "    .dataframe thead th {\n",
       "        text-align: right;\n",
       "    }\n",
       "</style>\n",
       "<table border=\"1\" class=\"dataframe\">\n",
       "  <thead>\n",
       "    <tr style=\"text-align: right;\">\n",
       "      <th></th>\n",
       "      <th>a</th>\n",
       "      <th>x</th>\n",
       "    </tr>\n",
       "  </thead>\n",
       "  <tbody>\n",
       "    <tr>\n",
       "      <th>0</th>\n",
       "      <td>0</td>\n",
       "      <td>1</td>\n",
       "    </tr>\n",
       "  </tbody>\n",
       "</table>\n",
       "</div>"
      ],
      "text/plain": [
       "   a  x\n",
       "0  0  1"
      ]
     },
     "execution_count": 6,
     "metadata": {},
     "output_type": "execute_result"
    }
   ],
   "source": [
    "res2 = await task2\n",
    "res2"
   ]
  },
  {
   "cell_type": "markdown",
   "metadata": {},
   "source": [
    "# Example python program, showing the need for wrapping with an asyncio.run call:"
   ]
  },
  {
   "cell_type": "code",
   "execution_count": null,
   "metadata": {},
   "outputs": [],
   "source": [
    "import asyncio\n",
    "import time\n",
    "import pandas as pd\n",
    "import dash_html_components as html\n",
    "import datetime\n",
    "\n",
    "async def simple_fn(x):\n",
    "    print(\"begin sleep\")\n",
    "    await asyncio.sleep(5)\n",
    "    print(\"end sleep\")\n",
    "    return(x)\n",
    "\n",
    "async def main():\n",
    "    t1 = time.time()\n",
    "    df = pd.DataFrame([{'a':0,'x':1}])\n",
    "    df2 = pd.DataFrame([{'c':0,'y':1}])\n",
    "    arg_list = [df, df, df2, html.H6(datetime.datetime.now())]\n",
    "    \n",
    "    z1 = await asyncio.gather(simple_fn(df), simple_fn(df2), simple_fn(df), simple_fn(arg_list[3])) #works\n",
    "\n",
    "    tasks=[asyncio.create_task(x) for x in arg_list] #also works\n",
    "    z2 = [await t for t in tasks]\n",
    "\n",
    "    print(\"Main: this should take 10 seconds: we await z1 for 5 seconds, then await z2 for 5 seconds\")\n",
    "    t2 = time.time()\n",
    "    print(\"Executed in \"+ str(t2-t1) + \" seconds\")\n",
    "    return [z1,z2]\n",
    "\n",
    "\n",
    "s = time.perf_counter()\n",
    "res = asyncio.run(main())\n",
    "print(\"Main returned:\")\n",
    "[print(x) for x in test]\n",
    "elapsed = time.perf_counter() - s\n",
    "logger.warning(f\"{__file__} executed in {elapsed:0.2f} seconds.\")"
   ]
  },
  {
   "cell_type": "code",
   "execution_count": 7,
   "metadata": {},
   "outputs": [
    {
     "name": "stdout",
     "output_type": "stream",
     "text": [
      "/home/jovyan\r\n"
     ]
    }
   ],
   "source": [
    "!pwd"
   ]
  },
  {
   "cell_type": "code",
   "execution_count": null,
   "metadata": {},
   "outputs": [],
   "source": []
  }
 ],
 "metadata": {
  "kernelspec": {
   "display_name": "Python 3",
   "language": "python",
   "name": "python3"
  },
  "language_info": {
   "codemirror_mode": {
    "name": "ipython",
    "version": 3
   },
   "file_extension": ".py",
   "mimetype": "text/x-python",
   "name": "python",
   "nbconvert_exporter": "python",
   "pygments_lexer": "ipython3",
   "version": "3.7.3"
  }
 },
 "nbformat": 4,
 "nbformat_minor": 2
}
